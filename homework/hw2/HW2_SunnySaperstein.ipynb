{
 "cells": [
  {
   "cell_type": "markdown",
   "metadata": {},
   "source": [
    "##HOMEWORK 2 ASSIGNMENT\n",
    "KNN classification using Iris dataset "
   ]
  },
  {
   "cell_type": "markdown",
   "metadata": {},
   "source": [
    "##1. Implement KNN classification, using the sklearn package. \n",
    "See also: \n",
    "http://scikit-learn.org/stable/modules/neighbors.html#nearest-neighbors-classification"
   ]
  },
  {
   "cell_type": "code",
   "execution_count": 29,
   "metadata": {
    "collapsed": true
   },
   "outputs": [],
   "source": [
    "%matplotlib inline\n",
    "from __future__ import division\n",
    "import pandas as pd\n",
    "import numpy as np\n",
    "#from seaborn import plt\n",
    "import matplotlib.pyplot as plt\n",
    "from sklearn.datasets import load_iris\n",
    "from sklearn.neighbors import NearestNeighbors\n",
    "from matplotlib.colors import ListedColormap\n",
    "from sklearn import neighbors, datasets, feature_selection\n",
    "from sklearn.cross_validation import train_test_split, cross_val_score"
   ]
  },
  {
   "cell_type": "code",
   "execution_count": 30,
   "metadata": {
    "collapsed": false
   },
   "outputs": [
    {
     "name": "stdout",
     "output_type": "stream",
     "text": [
      "iris data head:\n",
      "   sepal length (cm)  sepal width (cm)  petal length (cm)  petal width (cm)  \\\n",
      "0                5.1               3.5                1.4               0.2   \n",
      "1                4.9               3.0                1.4               0.2   \n",
      "2                4.7               3.2                1.3               0.2   \n",
      "3                4.6               3.1                1.5               0.2   \n",
      "4                5.0               3.6                1.4               0.2   \n",
      "\n",
      "   Target  \n",
      "0       0  \n",
      "1       0  \n",
      "2       0  \n",
      "3       0  \n",
      "4       0  \n",
      "iris describe():\n",
      "       sepal length (cm)  sepal width (cm)  petal length (cm)  \\\n",
      "count         150.000000        150.000000         150.000000   \n",
      "mean            5.843333          3.054000           3.758667   \n",
      "std             0.828066          0.433594           1.764420   \n",
      "min             4.300000          2.000000           1.000000   \n",
      "25%             5.100000          2.800000           1.600000   \n",
      "50%             5.800000          3.000000           4.350000   \n",
      "75%             6.400000          3.300000           5.100000   \n",
      "max             7.900000          4.400000           6.900000   \n",
      "\n",
      "       petal width (cm)      Target  \n",
      "count        150.000000  150.000000  \n",
      "mean           1.198667    1.000000  \n",
      "std            0.763161    0.819232  \n",
      "min            0.100000    0.000000  \n",
      "25%            0.300000    0.000000  \n",
      "50%            1.300000    1.000000  \n",
      "75%            1.800000    2.000000  \n",
      "max            2.500000    2.000000  \n",
      "label set: array([0, 1, 2])\n"
     ]
    }
   ],
   "source": [
    "iris = datasets.load_iris()\n",
    "iris_df = pd.DataFrame(iris.data, columns=iris.feature_names)\n",
    "\n",
    "iris_df['Target'] = iris.target\n",
    "print 'iris data head:'\n",
    "print iris_df.head()\n",
    "print 'iris describe():'\n",
    "print iris_df.describe()\n",
    "\n",
    "print \"label set: \" + repr(iris_df['Target'].unique())"
   ]
  },
  {
   "cell_type": "code",
   "execution_count": 31,
   "metadata": {
    "collapsed": false,
    "scrolled": false
   },
   "outputs": [
    {
     "data": {
      "text/plain": [
       "<bound method DataFrame.plot_frame of      sepal length (cm)  sepal width (cm)  petal length (cm)  petal width (cm)  \\\n",
       "0                  5.1               3.5                1.4               0.2   \n",
       "1                  4.9               3.0                1.4               0.2   \n",
       "2                  4.7               3.2                1.3               0.2   \n",
       "3                  4.6               3.1                1.5               0.2   \n",
       "4                  5.0               3.6                1.4               0.2   \n",
       "5                  5.4               3.9                1.7               0.4   \n",
       "6                  4.6               3.4                1.4               0.3   \n",
       "7                  5.0               3.4                1.5               0.2   \n",
       "8                  4.4               2.9                1.4               0.2   \n",
       "9                  4.9               3.1                1.5               0.1   \n",
       "10                 5.4               3.7                1.5               0.2   \n",
       "11                 4.8               3.4                1.6               0.2   \n",
       "12                 4.8               3.0                1.4               0.1   \n",
       "13                 4.3               3.0                1.1               0.1   \n",
       "14                 5.8               4.0                1.2               0.2   \n",
       "15                 5.7               4.4                1.5               0.4   \n",
       "16                 5.4               3.9                1.3               0.4   \n",
       "17                 5.1               3.5                1.4               0.3   \n",
       "18                 5.7               3.8                1.7               0.3   \n",
       "19                 5.1               3.8                1.5               0.3   \n",
       "20                 5.4               3.4                1.7               0.2   \n",
       "21                 5.1               3.7                1.5               0.4   \n",
       "22                 4.6               3.6                1.0               0.2   \n",
       "23                 5.1               3.3                1.7               0.5   \n",
       "24                 4.8               3.4                1.9               0.2   \n",
       "25                 5.0               3.0                1.6               0.2   \n",
       "26                 5.0               3.4                1.6               0.4   \n",
       "27                 5.2               3.5                1.5               0.2   \n",
       "28                 5.2               3.4                1.4               0.2   \n",
       "29                 4.7               3.2                1.6               0.2   \n",
       "..                 ...               ...                ...               ...   \n",
       "120                6.9               3.2                5.7               2.3   \n",
       "121                5.6               2.8                4.9               2.0   \n",
       "122                7.7               2.8                6.7               2.0   \n",
       "123                6.3               2.7                4.9               1.8   \n",
       "124                6.7               3.3                5.7               2.1   \n",
       "125                7.2               3.2                6.0               1.8   \n",
       "126                6.2               2.8                4.8               1.8   \n",
       "127                6.1               3.0                4.9               1.8   \n",
       "128                6.4               2.8                5.6               2.1   \n",
       "129                7.2               3.0                5.8               1.6   \n",
       "130                7.4               2.8                6.1               1.9   \n",
       "131                7.9               3.8                6.4               2.0   \n",
       "132                6.4               2.8                5.6               2.2   \n",
       "133                6.3               2.8                5.1               1.5   \n",
       "134                6.1               2.6                5.6               1.4   \n",
       "135                7.7               3.0                6.1               2.3   \n",
       "136                6.3               3.4                5.6               2.4   \n",
       "137                6.4               3.1                5.5               1.8   \n",
       "138                6.0               3.0                4.8               1.8   \n",
       "139                6.9               3.1                5.4               2.1   \n",
       "140                6.7               3.1                5.6               2.4   \n",
       "141                6.9               3.1                5.1               2.3   \n",
       "142                5.8               2.7                5.1               1.9   \n",
       "143                6.8               3.2                5.9               2.3   \n",
       "144                6.7               3.3                5.7               2.5   \n",
       "145                6.7               3.0                5.2               2.3   \n",
       "146                6.3               2.5                5.0               1.9   \n",
       "147                6.5               3.0                5.2               2.0   \n",
       "148                6.2               3.4                5.4               2.3   \n",
       "149                5.9               3.0                5.1               1.8   \n",
       "\n",
       "     Target  \n",
       "0         0  \n",
       "1         0  \n",
       "2         0  \n",
       "3         0  \n",
       "4         0  \n",
       "5         0  \n",
       "6         0  \n",
       "7         0  \n",
       "8         0  \n",
       "9         0  \n",
       "10        0  \n",
       "11        0  \n",
       "12        0  \n",
       "13        0  \n",
       "14        0  \n",
       "15        0  \n",
       "16        0  \n",
       "17        0  \n",
       "18        0  \n",
       "19        0  \n",
       "20        0  \n",
       "21        0  \n",
       "22        0  \n",
       "23        0  \n",
       "24        0  \n",
       "25        0  \n",
       "26        0  \n",
       "27        0  \n",
       "28        0  \n",
       "29        0  \n",
       "..      ...  \n",
       "120       2  \n",
       "121       2  \n",
       "122       2  \n",
       "123       2  \n",
       "124       2  \n",
       "125       2  \n",
       "126       2  \n",
       "127       2  \n",
       "128       2  \n",
       "129       2  \n",
       "130       2  \n",
       "131       2  \n",
       "132       2  \n",
       "133       2  \n",
       "134       2  \n",
       "135       2  \n",
       "136       2  \n",
       "137       2  \n",
       "138       2  \n",
       "139       2  \n",
       "140       2  \n",
       "141       2  \n",
       "142       2  \n",
       "143       2  \n",
       "144       2  \n",
       "145       2  \n",
       "146       2  \n",
       "147       2  \n",
       "148       2  \n",
       "149       2  \n",
       "\n",
       "[150 rows x 5 columns]>"
      ]
     },
     "execution_count": 31,
     "metadata": {},
     "output_type": "execute_result"
    }
   ],
   "source": [
    "iris_df.plot"
   ]
  },
  {
   "cell_type": "code",
   "execution_count": 40,
   "metadata": {
    "collapsed": false
   },
   "outputs": [
    {
     "name": "stdout",
     "output_type": "stream",
     "text": [
      "[1, 3, 5, 7, 9, 11, 13, 15, 17, 19, 21, 23, 25, 27, 29, 31, 33, 35, 37, 39, 41, 43, 45, 47, 49]\n"
     ]
    }
   ],
   "source": [
    "n_neighbors = range(1, 51, 2)\n",
    "print n_neighbors"
   ]
  },
  {
   "cell_type": "code",
   "execution_count": 36,
   "metadata": {
    "collapsed": false
   },
   "outputs": [
    {
     "data": {
      "text/plain": [
       "KNeighborsClassifier(algorithm='auto', leaf_size=30, metric='minkowski',\n",
       "           metric_params=None, n_neighbors=5, p=2, weights='uniform')"
      ]
     },
     "execution_count": 36,
     "metadata": {},
     "output_type": "execute_result"
    }
   ],
   "source": [
    "X = iris.data\n",
    "y = iris.target\n",
    "from sklearn.neighbors import KNeighborsClassifier\n",
    "knn = KNeighborsClassifier(5).fit(X, y)\n",
    "knn"
   ]
  },
  {
   "cell_type": "code",
   "execution_count": 37,
   "metadata": {
    "collapsed": false
   },
   "outputs": [],
   "source": [
    "# Create the training (and test) set using scikit-learn's train_test_split function\n",
    "X_train, X_test, y_train, y_test = train_test_split(X, y, test_size=0.3, random_state=8)"
   ]
  },
  {
   "cell_type": "code",
   "execution_count": 38,
   "metadata": {
    "collapsed": false
   },
   "outputs": [
    {
     "name": "stdout",
     "output_type": "stream",
     "text": [
      "[0.93333333333333335, 0.93333333333333335, 0.9555555555555556, 0.97777777777777775, 0.9555555555555556, 0.93333333333333335, 0.9555555555555556, 0.9555555555555556, 0.9555555555555556, 0.9555555555555556, 0.91111111111111109, 0.93333333333333335, 0.9555555555555556, 0.9555555555555556, 0.93333333333333335, 0.93333333333333335, 0.91111111111111109, 0.91111111111111109, 0.91111111111111109, 0.91111111111111109, 0.88888888888888884, 0.91111111111111109, 0.91111111111111109, 0.88888888888888884, 0.88888888888888884]\n",
      "105\n",
      "105\n",
      "[[ 5.   3.3  1.4  0.2]\n",
      " [ 5.   3.5  1.6  0.6]\n",
      " [ 5.   3.5  1.3  0.3]\n",
      " [ 6.9  3.1  5.4  2.1]\n",
      " [ 6.4  2.7  5.3  1.9]\n",
      " [ 5.7  2.5  5.   2. ]\n",
      " [ 7.9  3.8  6.4  2. ]\n",
      " [ 5.   3.   1.6  0.2]\n",
      " [ 4.4  2.9  1.4  0.2]\n",
      " [ 6.   2.2  4.   1. ]\n",
      " [ 5.5  2.4  3.8  1.1]\n",
      " [ 4.9  2.4  3.3  1. ]\n",
      " [ 4.8  3.4  1.6  0.2]\n",
      " [ 5.   3.2  1.2  0.2]\n",
      " [ 6.7  3.   5.   1.7]\n",
      " [ 6.3  3.3  6.   2.5]\n",
      " [ 5.4  3.9  1.7  0.4]\n",
      " [ 5.7  2.8  4.1  1.3]\n",
      " [ 6.   3.   4.8  1.8]\n",
      " [ 5.7  2.6  3.5  1. ]\n",
      " [ 4.8  3.4  1.9  0.2]\n",
      " [ 6.7  3.3  5.7  2.5]\n",
      " [ 6.3  2.3  4.4  1.3]\n",
      " [ 5.7  2.8  4.5  1.3]\n",
      " [ 5.4  3.9  1.3  0.4]\n",
      " [ 6.6  3.   4.4  1.4]\n",
      " [ 6.8  3.2  5.9  2.3]\n",
      " [ 7.7  2.8  6.7  2. ]\n",
      " [ 5.1  3.8  1.5  0.3]\n",
      " [ 5.6  2.8  4.9  2. ]\n",
      " [ 6.5  3.   5.5  1.8]\n",
      " [ 5.6  2.7  4.2  1.3]\n",
      " [ 6.1  2.8  4.7  1.2]\n",
      " [ 5.2  4.1  1.5  0.1]\n",
      " [ 4.6  3.4  1.4  0.3]\n",
      " [ 5.1  3.8  1.6  0.2]\n",
      " [ 5.1  3.4  1.5  0.2]\n",
      " [ 6.5  2.8  4.6  1.5]\n",
      " [ 5.8  2.7  5.1  1.9]\n",
      " [ 5.8  2.7  3.9  1.2]\n",
      " [ 7.7  2.6  6.9  2.3]\n",
      " [ 4.9  3.1  1.5  0.1]\n",
      " [ 6.2  2.8  4.8  1.8]\n",
      " [ 6.7  3.1  5.6  2.4]\n",
      " [ 5.5  3.5  1.3  0.2]\n",
      " [ 6.3  2.7  4.9  1.8]\n",
      " [ 4.4  3.   1.3  0.2]\n",
      " [ 4.7  3.2  1.3  0.2]\n",
      " [ 6.3  2.9  5.6  1.8]\n",
      " [ 5.   3.4  1.5  0.2]\n",
      " [ 5.6  2.9  3.6  1.3]\n",
      " [ 5.4  3.7  1.5  0.2]\n",
      " [ 4.6  3.2  1.4  0.2]\n",
      " [ 5.7  3.   4.2  1.2]\n",
      " [ 5.2  3.4  1.4  0.2]\n",
      " [ 5.8  2.8  5.1  2.4]\n",
      " [ 6.3  2.5  4.9  1.5]\n",
      " [ 5.1  3.7  1.5  0.4]\n",
      " [ 4.8  3.   1.4  0.3]\n",
      " [ 5.4  3.4  1.7  0.2]\n",
      " [ 5.4  3.4  1.5  0.4]\n",
      " [ 6.7  3.1  4.7  1.5]\n",
      " [ 6.1  2.9  4.7  1.4]\n",
      " [ 6.8  3.   5.5  2.1]\n",
      " [ 6.1  3.   4.6  1.4]\n",
      " [ 5.8  2.6  4.   1.2]\n",
      " [ 5.7  4.4  1.5  0.4]\n",
      " [ 7.3  2.9  6.3  1.8]\n",
      " [ 5.5  2.4  3.7  1. ]\n",
      " [ 6.5  3.2  5.1  2. ]\n",
      " [ 5.8  2.7  5.1  1.9]\n",
      " [ 6.4  2.8  5.6  2.1]\n",
      " [ 7.4  2.8  6.1  1.9]\n",
      " [ 5.6  3.   4.5  1.5]\n",
      " [ 5.   3.4  1.6  0.4]\n",
      " [ 6.2  3.4  5.4  2.3]\n",
      " [ 4.4  3.2  1.3  0.2]\n",
      " [ 6.5  3.   5.2  2. ]\n",
      " [ 6.1  2.8  4.   1.3]\n",
      " [ 7.2  3.2  6.   1.8]\n",
      " [ 5.5  2.3  4.   1.3]\n",
      " [ 6.2  2.2  4.5  1.5]\n",
      " [ 6.4  3.2  4.5  1.5]\n",
      " [ 4.9  3.1  1.5  0.1]\n",
      " [ 7.7  3.   6.1  2.3]\n",
      " [ 7.1  3.   5.9  2.1]\n",
      " [ 5.8  4.   1.2  0.2]\n",
      " [ 5.7  3.8  1.7  0.3]\n",
      " [ 5.2  2.7  3.9  1.4]\n",
      " [ 5.1  2.5  3.   1.1]\n",
      " [ 5.   2.3  3.3  1. ]\n",
      " [ 5.9  3.   4.2  1.5]\n",
      " [ 4.3  3.   1.1  0.1]\n",
      " [ 6.7  2.5  5.8  1.8]\n",
      " [ 6.4  3.2  5.3  2.3]\n",
      " [ 5.   2.   3.5  1. ]\n",
      " [ 6.   3.4  4.5  1.6]\n",
      " [ 7.2  3.6  6.1  2.5]\n",
      " [ 5.3  3.7  1.5  0.2]\n",
      " [ 6.5  3.   5.8  2.2]\n",
      " [ 6.   2.7  5.1  1.6]\n",
      " [ 6.3  3.4  5.6  2.4]\n",
      " [ 6.3  2.8  5.1  1.5]\n",
      " [ 7.6  3.   6.6  2.1]\n",
      " [ 5.4  3.   4.5  1.5]]\n"
     ]
    }
   ],
   "source": [
    "scores = []\n",
    "for n in n_neighbors:\n",
    "    clf = neighbors.KNeighborsClassifier(n)\n",
    "    \n",
    "    # clf = classifier (for classification model)\n",
    "    \n",
    "    clf.fit(X_train, y_train)\n",
    "    scores.append(clf.score(X_test, y_test))\n",
    "\n",
    "print scores\n",
    "print len(X_train)\n",
    "print len(y_train)\n",
    "print X_train\n"
   ]
  },
  {
   "cell_type": "code",
   "execution_count": 41,
   "metadata": {
    "collapsed": false
   },
   "outputs": [
    {
     "data": {
      "image/png": "[encoded data removed]",
      "text/plain": [
       "<matplotlib.figure.Figure at 0x109cfeb10>"
      ]
     },
     "metadata": {},
     "output_type": "display_data"
    }
   ],
   "source": [
    "plt.plot(n_neighbors, scores, linewidth=3.0);"
   ]
  },
  {
   "cell_type": "markdown",
   "metadata": {},
   "source": [
    "##2. Use the sklearn package to implement cross-validation for your classifier. \n",
    "Use 5 folds for your cross-validation. \n",
    "See also: http://scikit-learn.org/stable/modules/cross_validation.html#"
   ]
  },
  {
   "cell_type": "code",
   "execution_count": 42,
   "metadata": {
    "collapsed": false
   },
   "outputs": [
    {
     "name": "stdout",
     "output_type": "stream",
     "text": [
      "[ 1.  1.  1.  1.  1.]\n",
      "[1, 31, 61, 91, 121]\n"
     ]
    }
   ],
   "source": [
    "iris.data.shape, iris.target.shape\n",
    "from sklearn.cross_validation import cross_val_score\n",
    "clf = neighbors.KNeighborsClassifier(11, weights='uniform')\n",
    "clf.fit(iris.data, iris.target)\n",
    "scores = cross_val_score(clf, iris_df.values, iris.target, cv=5)\n",
    "print scores\n",
    "\n",
    "n_neighbors = range(1, 150, 30)\n",
    "print n_neighbors"
   ]
  },
  {
   "cell_type": "code",
   "execution_count": null,
   "metadata": {
    "collapsed": true
   },
   "outputs": [],
   "source": []
  },
  {
   "cell_type": "markdown",
   "metadata": {},
   "source": [
    "##3. Use your KNN classifier and cross-validation code from (1) and (2) above to determine the optimal value of K (number of nearest neighbors to consult) for this Iris dataset. \n",
    "Hint: This hyperparameter will be a number between 1 and 150 :)\n",
    "\n"
   ]
  },
  {
   "cell_type": "code",
   "execution_count": null,
   "metadata": {
    "collapsed": true
   },
   "outputs": [],
   "source": []
  }
 ],
 "metadata": {
  "kernelspec": {
   "display_name": "Python 2",
   "language": "python",
   "name": "python2"
  },
  "language_info": {
   "codemirror_mode": {
    "name": "ipython",
    "version": 2
   },
   "file_extension": ".py",
   "mimetype": "text/x-python",
   "name": "python",
   "nbconvert_exporter": "python",
   "pygments_lexer": "ipython2",
   "version": "2.7.9"
  }
 },
 "nbformat": 4,
 "nbformat_minor": 0
}
